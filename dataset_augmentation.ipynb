{
  "nbformat": 4,
  "nbformat_minor": 0,
  "metadata": {
    "colab": {
      "name": "Bopes.ipynb",
      "provenance": []
    },
    "kernelspec": {
      "name": "python3",
      "display_name": "Python 3"
    },
    "language_info": {
      "name": "python"
    }
  },
  "cells": [
    {
      "cell_type": "code",
      "execution_count": null,
      "metadata": {
        "id": "WJxcWccWFM-N"
      },
      "outputs": [],
      "source": [
        "import json\n",
        "import math\n",
        "import os\n",
        "import random\n",
        "import sys\n",
        "import time\n",
        "import matplotlib.pyplot as plt\n",
        "import numpy as np\n",
        "import tensorflow as tf\n",
        "import tensorflow_datasets as tfds\n",
        "import PIL\n",
        "import PIL.Image\n",
        "\n",
        "from tensorflow.keras import layers"
      ]
    },
    {
      "cell_type": "code",
      "source": [
        "from google.colab import drive\n",
        "drive.mount('/content/drive/')"
      ],
      "metadata": {
        "colab": {
          "base_uri": "https://localhost:8080/"
        },
        "id": "CiychfTtHuyE",
        "outputId": "5f513696-13ff-4ba4-a051-2622228ccc6e"
      },
      "execution_count": null,
      "outputs": [
        {
          "output_type": "stream",
          "name": "stdout",
          "text": [
            "Drive already mounted at /content/drive/; to attempt to forcibly remount, call drive.mount(\"/content/drive/\", force_remount=True).\n"
          ]
        }
      ]
    },
    {
      "cell_type": "code",
      "source": [
        "base_folder = '/content/drive/MyDrive/Positive'"
      ],
      "metadata": {
        "id": "U05RHosTGh1J"
      },
      "execution_count": null,
      "outputs": []
    },
    {
      "cell_type": "code",
      "source": [
        "import pathlib\n",
        "dataset_url = \"/content/drive/MyDrive/Positive\"\n",
        "data_dir = tf.keras.utils.get_file(origin=dataset_url,\n",
        "                                   fname='Positive',\n",
        "                                   untar=True)\n",
        "data_dir = pathlib.Path(data_dir)"
      ],
      "metadata": {
        "id": "LHBGcALEMCHK"
      },
      "execution_count": null,
      "outputs": []
    },
    {
      "cell_type": "code",
      "source": [
        "IMG_SIZE = 180\n",
        "\n",
        "resize_and_rescale = tf.keras.Sequential([\n",
        "  layers.Resizing(IMG_SIZE, IMG_SIZE),\n",
        "  layers.Rescaling(1./255)\n",
        "])"
      ],
      "metadata": {
        "id": "qDocpO4hI04g"
      },
      "execution_count": null,
      "outputs": []
    },
    {
      "cell_type": "code",
      "source": [
        "from keras.preprocessing.image import ImageDataGenerator\n",
        "from skimage import io\n",
        "datagen = ImageDataGenerator(        \n",
        "        rotation_range = 40,\n",
        "        shear_range = 0.2,\n",
        "        zoom_range = 0.5,\n",
        "        horizontal_flip = True,\n",
        "        brightness_range = (0.5, 1.5))\n",
        "import numpy as np\n",
        "import os\n",
        "from PIL import Image\n",
        "image_directory = r'/content/drive/MyDrive/Invalid'\n",
        "SIZE = 224\n",
        "dataset = []\n",
        "my_images = os.listdir(image_directory)\n",
        "for i, image_name in enumerate(my_images):    \n",
        "    if (image_name.split('.')[1] == 'jpg'):        \n",
        "        image = io.imread(image_directory + '/' + image_name)        \n",
        "        image = Image.fromarray(image, 'RGB')        \n",
        "        image = image.resize((SIZE,SIZE)) \n",
        "        dataset.append(np.array(image))\n",
        "x = np.array(dataset)\n",
        "i = 0\n",
        "for batch in datagen.flow(x, batch_size=16,\n",
        "                          save_to_dir= r'/content/drive/MyDrive/I_AugmentedART',\n",
        "                          save_prefix='dr',\n",
        "                          save_format='jpg'):    \n",
        "    i += 1    \n",
        "    if i > 50:        \n",
        "        break"
      ],
      "metadata": {
        "id": "AjatTCmpSjRC"
      },
      "execution_count": null,
      "outputs": []
    }
  ]
}